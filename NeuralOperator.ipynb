{
 "cells": [
  {
   "cell_type": "markdown",
   "metadata": {},
   "source": [
    "Demo code for Neural Operator <br>\n",
    "Author: yuanye_zhou@buaa.edu.cn"
   ]
  },
  {
   "cell_type": "markdown",
   "metadata": {},
   "source": [
    "# 背景知识\n",
    "\n",
    "&emsp;神经算子网络有别于一般的神经元网络，其特点为利用神经元网络去学习一类算子。因为算子是个抽象的概念，并不对应到具体的数据，因此初学者往往觉得算子学习有点晦涩难懂。 <br>  &emsp;这里提供一些学习资料，帮助初学者掌握算子学习。\n",
    "\n",
    "#### 【名词定义】\n",
    "\n",
    "&emsp; **算子**是一个**函数空间**到**函数空间**上的**映射**O：X→X。广义上的算子可以推广到任何空间，如内积空间等。  <br>\n",
    "&emsp; 广义的讲，对任何函数进行某一项操作都可以认为是一个算子，甚至包括求**幂次**，**开方**都可以认为是一个算子，只是有的算子我们用了一个符号来代替他所要进行的运算罢了，所以大家看到算子就不要纠结，它甚至和**加减乘除**的基本运算符号都没有区别，只是他可以对单对象操作罢了(有的符号比如**大于**、**小于**号要对多对象操作)。[1] <br>\n",
    "#### 【基本原理】\n",
    "&emsp;**算子学习**就是使用神经元网络去拟合一个算子。 <br>\n",
    "&emsp;尽管算子作用在函数上，利用神经元网络去拟合的时候，其实无法将一个函数作为神经元网络的输入。为了让神经元网络可以拟合算子，还需要将算子转化为数据来表达。Lu 等人[2]在 DeepONet 论文中提及‘Although our goal is\n",
    "to learn operators, which take a function as the input, we have to represent the input functions discretely, so that network approximations can be applied.’<br>\n",
    "<br>\n",
    "&emsp;**如何使用数据来表达算子？**<br>\n",
    "&emsp;假设我们的算子是函数的求导运算$D$, 对于任意的函数 $u$($x$), 均可以在$u$上施加我们的算子$D$, 得到函数的导数 $u'$ = $D$($u$) = $du(x)$/$dx$ 。我们可以让 $u$ 是幂次方、开方、三角函数、加减乘除、或者某类偏微分方程等等任意形式的函数。而无论是那种函数形式，求导运算的规则总是一致的。基于这个认知，我们可以在给定的数据点$x$上，构造不同的$u$($x$)数据，比如$x^2$,$sin(x)$,等等，再得到这些不同函数的导数，比如$2x$,$cos(x)$,等等，从而实现算子的数据化表达。 <br><br>\n",
    "&emsp;**如何使用神经元网络来拟合数据化算子？**<br>\n",
    "&emsp;我们知道算子可以被数据化表达，但这种表达仍然是抽象的概念，还需要构造特定的神经元网络结构，才能实现算子的拟合。根据算子万能逼近理论[2]：<br>\n",
    "![](https://ai-studio-static-online.cdn.bcebos.com/1e358d0b53aa4139b135bccb5bc06ac5938c83c00615418c9e60f7f4d38e922b)\n",
    "\n",
    "&emsp;算子的拟合可以表达为分支（Branch）与主干(Trunk)的乘法，其中分支处理一个定函数$u$在一系列固定坐标点$x$的运算，主干则处理任意坐标点$y$的运算。需要注意公式中$y$并不是函数的输出，而是与$x$一样，均为计算域内的点。不同点在于$x$是固定的，$y$是任意的。\n",
    "\n",
    "&emsp;于是我们可以构建神经元网络符合算子万能逼近理论，如下所示[2]：<br>\n",
    "![](https://ai-studio-static-online.cdn.bcebos.com/2693e18c5efc4e57af3a39d5dd931d314b1cff7bc4534a14959c5588ffefc19b)\n",
    "![](https://ai-studio-static-online.cdn.bcebos.com/1f521d3b43fb4075a69d462a5baf2b356f10e3c1e4e24d1f83127e788aee1dcf)\n",
    "![](https://ai-studio-static-online.cdn.bcebos.com/683937b9f160482b82acfc94b8fe8ad546497dcf850e430989000a7ccb3af2ff)\n",
    "<br>\n",
    "&emsp;分支和主干分别对应一个神经元网络，分支网络输出与主干网络的输出进行乘法运算并求和。分支网络的输入为固定坐标点$x$上的函数值，主干网络的输入为任意坐标点$y$的坐标值。\n",
    "\n",
    "&emsp;以上述函数导数为例，希望求 $cos(x)$ 的导数：<br>\n",
    "&emsp;假设固定坐标点$x$个数为$m$，则分支网络的输入为 $cos(x)$的 1x$m$ 矩阵，输出为 1x$p$ 矩阵$b$；当$y$包含n个坐标点时，主干网络的输入为$n$x1，输出为 $n$x$p$ 矩阵$t$；分支与主干输出相乘 $t$*$b^T$,得到 $n$x1 的矩阵，这个结果就是$cos(x)$在坐标的$x=y$上的导数。 <br>\n",
    "&emsp;主干网络与一般的神经元网络没有差异，分支网络的输入神经元节点数与固定坐标点$x$的个数一致，在训练网络的时候，需要构造多组不同函数，这时候分支网络的输入变为$h$x$m$，主干网络的输入还是与输出不变，但是分支与主干合成后的输出为$n$x$h$，其中$h$为函数的个数。<br>\n",
    "#### 【傅立叶算子】\n",
    "&emsp;上面我们介绍了算子学习的基本原理，接下来介绍傅立叶算子。<br>\n",
    "##### 【傅立叶变换和微积分】\n",
    "&emsp;傅立叶变换的基本原理是：任意的连续函数总能写成一个无穷傅立叶级数。<br>\n",
    "&emsp;对于1维函数$s(x)$，离散的傅立叶级数展开式为：[3] <br>\n",
    "![](https://ai-studio-static-online.cdn.bcebos.com/81320f265357474eabd56b3ea15f8cf5513c6214760e4fa5980410a14407bfb1)\n",
    "其中 $N$ 表示级数的个数，$P$ 表示计算域的长度。<br>\n",
    "&emsp;$a_n$,$b_n$的计算公式为：<br>\n",
    "![](https://ai-studio-static-online.cdn.bcebos.com/411fecdb3a2c4b3ead14a2cf016dfd6448d4cb7ac6fe452395bd8b15c0eea31e)\n",
    "<br>\n",
    "&emsp;为了简便描述，离散的傅立叶级数展开式可以改写为复数形式：<br>\n",
    "![](https://ai-studio-static-online.cdn.bcebos.com/ebd18daf665f43d9a5081a63e101150654fc2db80b5e4fdcbfcb4ba866407fdd)\n",
    "<br>\n",
    "&emsp;其中$c_n$是复数，计算公式为：<br>\n",
    "![](https://ai-studio-static-online.cdn.bcebos.com/c1bbfff74d4d456e874ce449f98788ab323565880dbd4ed2a0049658a49cd3e3)\n",
    "<br>\n",
    "&emsp;上面这个公式就是傅立叶变换的公式，我们把关注重点从函数$s(x)$本身转换到了傅立叶级数的系数$c_n$上，这也就是时域到频域的变换，因为每个系数$c_n$都对应一个特定频率的三角函数。<br>\n",
    "&emsp;我们知道对于任意的$sin(Ax)$,其一阶微分为$Acos(Ax)$,二阶微分为$-A^2sin(Ax)$,三阶微分为$-A^3cos(Ax)$, ..., 很自然的，$c_n$和其对应三角函数的微分在运算的时候$c_n$始终保持不变，只需要对三角函数进行微分即可。关于三角函数的微分，上面的案例已经展示了其结构并不复杂，特别是在复数表达下则更加简洁；相应的，积分表达也不复杂。关于复数运算和复变函数的书籍可以参考[4]。\n",
    "##### 【傅立叶算子学习】\n",
    "&emsp;**结合了傅立叶变化和算子学习的网络应该是什么样的呢？**<br>\n",
    "&emsp;本质上，傅立叶算子学习是在同一个边界条件和控制方程的前提下，学习任意给定若干个物理场到另外若干个物理场的映射关系。这点与DeepONet不同，DeepONet可以处理不同边界条件甚至不同控制方程下的算子学习，比如任意函数的求导运算。但是傅立叶算子学习把时域下的学习转化为频域下的学习，可以实现训练耗时更短和精度更高。将算子万能逼近理论公式转化到频域下，有：<br>\n",
    "![](https://ai-studio-static-online.cdn.bcebos.com/533b19b62de545d6a45cd3e28f1fcb46e463d4e89c064bc8914711541cc583a1)\n",
    "<br> &emsp; 其中时域两个函数相乘的积分，可以表达为频域下两个函数的乘法[5]。\n",
    "\n",
    "&emsp; 因此从一个给定物理场出发，经过若干次迭代，每次迭代都进行一次傅立叶变化与逆变换，就可以计算得到希望映射的物理场，这就是FNO[6]的网络结构：<br>\n",
    "![](https://ai-studio-static-online.cdn.bcebos.com/4ec72dba85e34db9ba748ceddefa27045c5e210d4e304eb796a56eef7ec07991)\n",
    "<br>\n",
    "&emsp; 注意：FNO网络的特点是输入一个物理场，输出一个物理场。而DeepONet输入坐标，输出对应坐标上的物理量。\n",
    "<br> &emsp; 关于FNO的深入介绍，推荐阅读这篇文档[7]，需要注意FNO并不是只能做时序物理场的映射，还可以做空间物理场的映射，比如大气温度场和速度场之间的映射，因为算子是函数到函数的映射。\n",
    "\n",
    "#### 【总结】\n",
    "&emsp; 算子学习的理论基础（算子万能逼近理论）建立在求解PDE方程的格林函数方法之上，运用格林函数法，能够设计出性能优越的网络结构。\n",
    "\n",
    "#### 【参考文献】\n",
    "[1] 科普中国网 https://www.kepuchina.cn/wiki/ct/201803/t20180318_558207.shtml <br>\n",
    "[2] Lu, L., Jin, P., Pang, G., Zhang, Z., & Karniadakis, G. E. (2021). Learning nonlinear operators via DeepONet based on the universal approximation theorem of operators. Nature machine intelligence, 3(3), 218-229. <br>\n",
    "[3] 维基百科 https://zh.wikipedia.org/wiki/%E5%82%85%E9%87%8C%E5%8F%B6%E7%BA%A7%E6%95%B0 <br>\n",
    "[4] 知乎 https://zhuanlan.zhihu.com/p/91184296 <br>\n",
    "[5] 知乎 https://zhuanlan.zhihu.com/p/108803395 <br>\n",
    "[6] Li, Z., Kovachki, N., Azizzadenesheli, K., Liu, B., Bhattacharya, K., Stuart, A., & Anandkumar, A. (2020). Fourier neural operator for parametric partial differential equations. arXiv preprint arXiv:2010.08895. <br>\n",
    "[7] 知乎 https://zhuanlan.zhihu.com/p/533488795"
   ]
  },
  {
   "cell_type": "markdown",
   "metadata": {},
   "source": [
    "# 代码实践"
   ]
  },
  {
   "cell_type": "markdown",
   "metadata": {},
   "source": [
    "## 1. 基础定义"
   ]
  },
  {
   "cell_type": "code",
   "execution_count": null,
   "metadata": {
    "scrolled": true
   },
   "outputs": [],
   "source": [
    "# 导入库\n",
    "\n",
    "import paddle\n",
    "import numpy as np\n",
    "import matplotlib.pyplot as plt\n",
    "\n",
    "# 定义MLP网络\n",
    "\n",
    "class MyNet(paddle.nn.Layer):\n",
    "    def __init__(self,numIN,numOUT,numHidden,numLayer):\n",
    "        super().__init__()\n",
    "        self.IN = paddle.nn.Linear(numIN,numHidden) # 输入层\n",
    "        self.FC_layers = [] # 隐藏层\n",
    "        for i in range(numLayer - 1):\n",
    "            fc_layer = paddle.nn.Linear(numHidden,numHidden)\n",
    "            self.FC_layers.append(fc_layer)\n",
    "        self.OUT = paddle.nn.Linear(numHidden,numOUT)  # 输出层\n",
    "        self.ACT = paddle.nn.functional.tanh\n",
    "    \n",
    "\n",
    "    def forward(self, inputs):\n",
    "        H = inputs\n",
    "        H = self.IN(H)\n",
    "        H = self.ACT(H)\n",
    "        for fc_layer in self.FC_layers:\n",
    "            H = fc_layer(H)\n",
    "            H = self.ACT(H)\n",
    "        outputs = self.OUT(H)      \n",
    "        return outputs"
   ]
  },
  {
   "cell_type": "markdown",
   "metadata": {},
   "source": [
    "## 2. 具体案例"
   ]
  },
  {
   "cell_type": "markdown",
   "metadata": {},
   "source": [
    "### 2.1 使用 DeepONet 学习$sin(ax)$对$x$的求导运算\n",
    "（代码执行顺序：0. 重启内核; 1.基础定义; 2.执行本节代码）"
   ]
  },
  {
   "cell_type": "code",
   "execution_count": null,
   "metadata": {
    "scrolled": true,
    "tags": []
   },
   "outputs": [],
   "source": [
    "# 定义DeepONet输出\n",
    "\n",
    "\n",
    "class Output(paddle.nn.Layer):\n",
    "\n",
    "    def __init__(self,b_fun,t_fun):\n",
    "        super().__init__()\n",
    "        self.b_fun = b_fun \n",
    "        self.t_fun = t_fun \n",
    "\n",
    "    def forward(self, Xb, Xt):\n",
    "        b_pred = self.b_fun(Xb)\n",
    "        t_pred = self.t_fun(Xt)\n",
    "        t_pred = paddle.nn.functional.tanh(t_pred)\n",
    "        b_pred = paddle.transpose(b_pred, perm=[1, 0])\n",
    "        y_pred = paddle.matmul(t_pred,b_pred)\n",
    "        return y_pred\n",
    "\n",
    "class DataLoss(paddle.nn.Layer):\n",
    "\n",
    "    def __init__(self,b_fun,t_fun):\n",
    "        super().__init__()\n",
    "        self.b_fun = b_fun \n",
    "        self.t_fun = t_fun \n",
    "\n",
    "    def forward(self, Xb, Xt, Y_true):\n",
    "        b_pred = self.b_fun(Xb)\n",
    "        t_pred = self.t_fun(Xt)\n",
    "        t_pred = paddle.nn.functional.tanh(t_pred)\n",
    "        b_pred = paddle.transpose(b_pred, perm=[1, 0])\n",
    "        Y_pred = paddle.matmul(t_pred,b_pred)\n",
    "        loss = paddle.sum(paddle.square(Y_pred - Y_true))\n",
    "        return loss"
   ]
  },
  {
   "cell_type": "code",
   "execution_count": null,
   "metadata": {
    "scrolled": true,
    "tags": []
   },
   "outputs": [],
   "source": [
    "# 调用 Branch Net， Trunk Net， Loss， 最终输出\n",
    "\n",
    "p = 100\n",
    "m = 100\n",
    "BranchNet = MyNet(m,p,32,4) # 固定m个坐标点\n",
    "TrunkNet = MyNet(1,p,12,3)\n",
    "\n",
    "lr = 0.001\n",
    "train_parameter = BranchNet.parameters() + TrunkNet.parameters()\n",
    "optimizer = paddle.optimizer.Adam(learning_rate=0.001,parameters=train_parameter)\n",
    "\n",
    "Loss = DataLoss(BranchNet,TrunkNet)\n",
    "Pred = Output(BranchNet,TrunkNet)"
   ]
  },
  {
   "cell_type": "code",
   "execution_count": null,
   "metadata": {
    "scrolled": true
   },
   "outputs": [],
   "source": [
    "# 生成训练数据\n",
    "\n",
    "# 定义训练用函数 y = sin(ax)\n",
    "\n",
    "def fun(x,a):\n",
    "    y = paddle.sin(a*x)\n",
    "    dydx = a * paddle.cos(a*x)\n",
    "    return y,dydx\n",
    "\n",
    "\n",
    "# 固定x坐标点\n",
    "X = np.linspace(0,2*np.pi,m)\n",
    "X = paddle.to_tensor(X,dtype='float32')\n",
    "X = X.reshape([1,m])\n",
    "\n",
    "# 构造BranchNet输入\n",
    "Xb1,Yb1 = fun(X,paddle.rand([1]))\n",
    "Xb2,Yb2 = fun(X,paddle.rand([1]))\n",
    "Xb3,Yb3 = fun(X,paddle.rand([1]))\n",
    "Xb4,Yb4 = fun(X,paddle.rand([1]))\n",
    "Xb5,Yb5 = fun(X,paddle.rand([1]))\n",
    "\n",
    "Xb = paddle.concat([Xb1,Xb2,Xb3,Xb4,Xb5],axis=0)\n",
    "Yb = paddle.concat([Yb1,Yb2,Yb3,Yb4,Yb5],axis=0)\n",
    "Yb = paddle.transpose(Yb, perm=[1, 0])\n",
    "\n",
    "\n",
    "# 构造训练TrunkNet输入\n",
    "Xt = np.linspace(0,2*np.pi,m)\n",
    "Xt = paddle.to_tensor(Xt,dtype='float32')\n",
    "Xt = Xt.reshape([m,1])"
   ]
  },
  {
   "cell_type": "code",
   "execution_count": null,
   "metadata": {
    "scrolled": true,
    "tags": []
   },
   "outputs": [],
   "source": [
    "# 训练网络\n",
    "\n",
    "epoch = 1\n",
    "while(epoch<=20000):\n",
    "    \n",
    "    loss = Loss(Xb,Xt,Yb)\n",
    "    loss.backward()\n",
    "\n",
    "    optimizer.step()\n",
    "    optimizer.clear_grad()\n",
    "\n",
    "    if epoch % 1000 == 0:\n",
    "        print('epoch:',epoch,'loss:',float(loss))\n",
    "    epoch += 1"
   ]
  },
  {
   "cell_type": "code",
   "execution_count": null,
   "metadata": {
    "scrolled": true
   },
   "outputs": [],
   "source": [
    "# 预测 任意a 的 sin(a*x) 的导数 \n",
    "X_test = np.linspace(0,2*np.pi,m)\n",
    "X_test  = paddle.to_tensor(X_test ,dtype='float32')\n",
    "X_test  = X_test.reshape([1,m])\n",
    "\n",
    "a = paddle.rand([1])\n",
    "Xb_test = paddle.sin(a*X_test)\n",
    "\n",
    "Xt_test  = np.linspace(0,2*np.pi,100)\n",
    "Xt_test  = paddle.to_tensor(Xt_test ,dtype='float32')\n",
    "Xt_test  = Xt_test.reshape([100,1])\n",
    "\n",
    "y_pred = Pred(Xb_test ,Xt_test)\n",
    "y_true = a*paddle.cos(a*Xt_test)\n",
    "\n",
    "print('a:',float(a))\n",
    "plt.plot(Xt_test ,y_pred)\n",
    "plt.plot(Xt_test ,y_true,linestyle='none',marker='.')"
   ]
  },
  {
   "cell_type": "markdown",
   "metadata": {},
   "source": [
    "### 2.2 使用 FNO 学习 $du/dt = t*sin(x)cos(y)$方程, 边界条件x,y属于[0,2*pi]，实现给定任意初始u(t=t0)，计算u(t=t0+1)的值  \n",
    "（代码执行顺序：0. 重启内核; 1.执行本节代码）"
   ]
  },
  {
   "cell_type": "code",
   "execution_count": 1,
   "metadata": {
    "execution": {
     "iopub.execute_input": "2023-11-01T08:20:40.276643Z",
     "iopub.status.busy": "2023-11-01T08:20:40.275779Z",
     "iopub.status.idle": "2023-11-01T08:20:42.101459Z",
     "shell.execute_reply": "2023-11-01T08:20:42.100547Z",
     "shell.execute_reply.started": "2023-11-01T08:20:40.276605Z"
    },
    "scrolled": true,
    "tags": []
   },
   "outputs": [
    {
     "name": "stderr",
     "output_type": "stream",
     "text": [
      "/opt/conda/envs/python35-paddle120-env/lib/python3.7/site-packages/matplotlib/__init__.py:107: DeprecationWarning: Using or importing the ABCs from 'collections' instead of from 'collections.abc' is deprecated, and in 3.8 it will stop working\r\n",
      "  from collections import MutableMapping\r\n",
      "/opt/conda/envs/python35-paddle120-env/lib/python3.7/site-packages/matplotlib/rcsetup.py:20: DeprecationWarning: Using or importing the ABCs from 'collections' instead of from 'collections.abc' is deprecated, and in 3.8 it will stop working\r\n",
      "  from collections import Iterable, Mapping\r\n",
      "/opt/conda/envs/python35-paddle120-env/lib/python3.7/site-packages/matplotlib/colors.py:53: DeprecationWarning: Using or importing the ABCs from 'collections' instead of from 'collections.abc' is deprecated, and in 3.8 it will stop working\r\n",
      "  from collections import Sized\r\n"
     ]
    }
   ],
   "source": [
    "# 导入库\n",
    "\n",
    "import paddle\n",
    "import paddle.nn as nn\n",
    "import paddle.nn.functional as F\n",
    "import numpy as np\n",
    "import matplotlib.pyplot as plt\n",
    "\n",
    "# 定义FNO网络 （改写自文献[7] https://zhuanlan.zhihu.com/p/533488795）\n",
    "\n",
    "class FNO2d(nn.Layer):\n",
    "    def __init__(self, modes1, modes2, width):\n",
    "        super(FNO2d, self).__init__()\n",
    "        # 保留了几行源代码所带的注释，可以根据这个注释去看下面的代码\n",
    "        # input: the solution of the previous timestep u(t-1, x, y)\n",
    "        # input shape: (batchsize, x=64, y=64, c=1)\n",
    "        # output: the solution of the next timestep\n",
    "        # output shape: (batchsize, x=64, y=64, c=1)\n",
    "        self.modes1 = modes1 # Fourier Layer所需要的参数\n",
    "        self.modes2 = modes2 # Fourier Layer所需要的参数\n",
    "        self.width = width # Fourier Layer所需要的参数\n",
    "        self.padding = 2 # pad the domain if input is non-periodic\n",
    "        self.fc0 = nn.Linear(1, self.width) #将输入的channel映射到想要的channel，这里设置为width个channel\n",
    "        # 对应着上图(a)里的4个Fourier Layer，具体结构后面会讲\n",
    "        self.conv0 = SpectralConv2d_fast(self.width, self.width, self.modes1, self.modes2)\n",
    "        self.conv1 = SpectralConv2d_fast(self.width, self.width, self.modes1, self.modes2)\n",
    "        self.conv2 = SpectralConv2d_fast(self.width, self.width, self.modes1, self.modes2)\n",
    "        self.conv3 = SpectralConv2d_fast(self.width, self.width, self.modes1, self.modes2)\n",
    "        # 对应着上图(b)里的W，类似ResNet的shortcut结构\n",
    "        self.w0 = nn.Conv2D(self.width, self.width, 1)\n",
    "        self.w1 = nn.Conv2D(self.width, self.width, 1)\n",
    "        self.w2 = nn.Conv2D(self.width, self.width, 1)\n",
    "        self.w3 = nn.Conv2D(self.width, self.width, 1)\n",
    "\n",
    "        # 全连接层，用于将channel数从width映射到128\n",
    "        self.fc1 = nn.Linear(self.width, 128)\n",
    "        # 全连接层，用于将channel数从128映射到1，即得到最终输出的维度\n",
    "        self.fc2 = nn.Linear(128, 1)\n",
    "\n",
    "    def forward(self, x):\n",
    "\n",
    "        x = self.fc0(x)\n",
    "        x = paddle.transpose(x, perm=[0, 3, 1, 2])\n",
    "        # x = x.permute(0, 3, 1, 2)\n",
    "\n",
    "        # 经过Fourier Layer 0\n",
    "        x1 = self.conv0(x)\n",
    "        x2 = self.w0(x)\n",
    "        x = x1 + x2\n",
    "        x = F.gelu(x)\n",
    "\n",
    "        # 经过Fourier Layer 1\n",
    "        x1 = self.conv1(x)\n",
    "        x2 = self.w1(x)\n",
    "        x = x1 + x2\n",
    "        x = F.gelu(x)\n",
    "\n",
    "        # 经过Fourier Layer 2\n",
    "        x1 = self.conv2(x)\n",
    "        x2 = self.w2(x)\n",
    "        x = x1 + x2\n",
    "        x = F.gelu(x)\n",
    "\n",
    "        # 经过Fourier Layer 3\n",
    "        x1 = self.conv3(x)\n",
    "        x2 = self.w3(x)\n",
    "        x = x1 + x2\n",
    "\n",
    "        # 经过两个全连接层，将channel维度映射到目标输出的维度\n",
    "        # x = x[..., :-self.padding, :-self.padding] # pad the domain if input is non-periodic\n",
    "        # x = x.permute(0, 2, 3, 1)\n",
    "        x = paddle.transpose(x,perm=[0,2,3,1])\n",
    "        x = self.fc1(x)\n",
    "        x = F.gelu(x)\n",
    "        x = self.fc2(x)\n",
    "        return x\n",
    "\n",
    "\n",
    "class SpectralConv2d_fast(nn.Layer):\n",
    "    def __init__(self, in_channels, out_channels, modes1, modes2):\n",
    "        super(SpectralConv2d_fast, self).__init__()\n",
    "\n",
    "        \"\"\"\n",
    "        2D Fourier layer. It does FFT, linear transform, and Inverse FFT.    \n",
    "        \"\"\"\n",
    "        # width = 20, modes1=12, modes2=12\n",
    "        # in_channels = out_channels = width =20\n",
    "        self.in_channels = in_channels\n",
    "        self.out_channels = out_channels\n",
    "        self.modes1 = modes1 #Number of Fourier modes to multiply, at most floor(N/2) + 1\n",
    "        self.modes2 = modes2 #傅里叶模态相乘的数量，最多floor(N/2) + 1\n",
    "\n",
    "        self.scale = (1 / (in_channels * out_channels)) # 保证scale不变所设置的量\n",
    "        # 先随机初始化两个parameter，维度为[20,20,12,12]，并乘上缩放因子scale\n",
    "        # self.weights1 = nn.Parameter(self.scale * torch.rand(in_channels, out_channels, self.modes1, self.modes2, dtype=torch.cfloat))\n",
    "        # self.weights2 = nn.Parameter(self.scale * torch.rand(in_channels, out_channels, self.modes1, self.modes2, dtype=torch.cfloat))\n",
    "        self.weights1_real = self.create_parameter([in_channels, out_channels, self.modes1, self.modes2])\n",
    "        self.weights2_real = self.create_parameter([in_channels, out_channels, self.modes1, self.modes2])\n",
    "        self.weights1_img = self.create_parameter([in_channels, out_channels, self.modes1, self.modes2])\n",
    "        self.weights2_img = self.create_parameter([in_channels, out_channels, self.modes1, self.modes2])\n",
    "        self.weights1 = paddle.complex(self.weights1_real,self.weights2_img)\n",
    "        self.weights2 = paddle.complex(self.weights2_real,self.weights2_img)\n",
    "\n",
    "    # 定义向量乘的规则，即定义input和weights如何做乘，理解起来略微抽象\n",
    "    def compl_mul2d(self, input, weights):\n",
    "        # (batch, in_channel, x,y ), (in_channel, out_channel, x,y) -> (batch, out_channel, x,y)\n",
    "        # 可以简单理解成前两个维度做向量乘，即(batch, in_channel),(in_channel, out_channel) -> (batch, out_channel）\n",
    "        # [20,20,12,12] * [20,20,12,12] = [20,20,12,12]\n",
    "        # 在这里主要是in_channel和out_channel与batch维度都是20，所以理解起来容易混淆\n",
    "        return paddle.einsum(\"bixy,ioxy->boxy\", input, weights)\n",
    "\n",
    "    def forward(self, x):\n",
    "        # 最初输入的x的维度为[20,64,64,20]->[bathsize，resolution，resolution，channel by fc0]\n",
    "        # 经过permute之后，x的维度变成了[20, 20, 64, 64]，即[bathsize，channel by fc0，resolution，resolution]\n",
    "        batchsize = x.shape[0]\n",
    "        #Compute Fourier coeffcients up to factor of e^(- something constant)\n",
    "        # 将x做傅里叶变换，维度变为x_ft[20, 20, 64, 33]，可自行查阅fft算法的原理，网上资料充足在此不赘述\n",
    "        x_ft = paddle.fft.rfft2(x)\n",
    "\n",
    "        # Multiply relevant Fourier modes\n",
    "        # 定义out_ft变量用于存储结果，维度为[20, 12, 64, 33]，因为modes设置的是12，因此只有12个channel用于相乘\n",
    "        out_ft_real = paddle.zeros([batchsize, self.out_channels,  x.shape[-2], x.shape[-1]//2 + 1])\n",
    "        out_ft_img = paddle.zeros([batchsize, self.out_channels,  x.shape[-2], x.shape[-1]//2 + 1])\n",
    "        out_ft = paddle.complex(out_ft_real,out_ft_img)\n",
    "        # 根据前面的向量乘法定义规则，即(batch, in_channel),(in_channel, out_channel) -> (batch, out_channel）\n",
    "        # out_ft[0:20,0:12,0:12,0:12] = x_ft[0:20, 0:20, 0:12, 0:12] * weights1[0:20, 0:20, 0:12, 0:12]\n",
    "        out_ft[:, :, :self.modes1, :self.modes2] = \\\n",
    "            self.compl_mul2d(x_ft[:, :, :self.modes1, :self.modes2], self.weights1)\n",
    "        # 同理，只不过倒着处理12个模态\n",
    "        # out_ft[0:20,0:12,-12:end,-12:end] = x_ft[0:20,0:12,-12:end,-12:end] * weights2[0:20, 0:20, 0:12, 0:12]\n",
    "        out_ft[:, :, -self.modes1:, :self.modes2] = \\\n",
    "            self.compl_mul2d(x_ft[:, :, -self.modes1:, :self.modes2], self.weights2)\n",
    "        # 经过一波相乘后，out_ft在[0,12]和[-12:end]处有信息，而之外的区间内是0\n",
    "        # Return to physical space\n",
    "        # 傅里叶逆变换，将傅里叶空间转换到物理空间\n",
    "        x = paddle.fft.irfft2(out_ft, s=(x.shape[-2], x.shape[-1]))\n",
    "        return x"
   ]
  },
  {
   "cell_type": "code",
   "execution_count": 3,
   "metadata": {
    "execution": {
     "iopub.execute_input": "2023-11-01T08:21:12.388872Z",
     "iopub.status.busy": "2023-11-01T08:21:12.388317Z",
     "iopub.status.idle": "2023-11-01T08:21:12.411650Z",
     "shell.execute_reply": "2023-11-01T08:21:12.410662Z",
     "shell.execute_reply.started": "2023-11-01T08:21:12.388838Z"
    },
    "scrolled": true,
    "tags": []
   },
   "outputs": [],
   "source": [
    "# 定义训练数据\n",
    "resolution = 24\n",
    "x = np.linspace(0,2*np.pi,resolution)\n",
    "y = np.linspace(0,2*np.pi,resolution)\n",
    "X,Y = np.meshgrid(x,y)\n",
    "X = paddle.to_tensor(X,dtype='float32')\n",
    "Y = paddle.to_tensor(Y,dtype='float32')\n",
    "X = X.reshape([1,resolution,resolution,1])\n",
    "Y = Y.reshape([1,resolution,resolution,1])\n",
    "batchsize = 20\n",
    "U0 = paddle.zeros([batchsize,resolution,resolution,1],dtype='float32')\n",
    "U1 = paddle.zeros([batchsize,resolution,resolution,1],dtype='float32')\n",
    "for i in range(0,batchsize):\n",
    "    t = paddle.rand([1])\n",
    "    U0[i:i+1,:,:,:] = t * paddle.sin(X)*paddle.cos(Y)\n",
    "    U1[i:i+1,:,:,:] = 0.5 * paddle.sin(X)*paddle.cos(Y) + U0[i:i+1,:,:,:]   "
   ]
  },
  {
   "cell_type": "code",
   "execution_count": 4,
   "metadata": {
    "execution": {
     "iopub.execute_input": "2023-11-01T08:21:14.895240Z",
     "iopub.status.busy": "2023-11-01T08:21:14.894419Z",
     "iopub.status.idle": "2023-11-01T08:21:14.910880Z",
     "shell.execute_reply": "2023-11-01T08:21:14.909848Z",
     "shell.execute_reply.started": "2023-11-01T08:21:14.895198Z"
    },
    "scrolled": true,
    "tags": []
   },
   "outputs": [],
   "source": [
    "# 调用 FNO2d模型\n",
    "modes1 = 4\n",
    "modes2 = 4\n",
    "width = 32\n",
    "model = FNO2d(modes1, modes2, width)"
   ]
  },
  {
   "cell_type": "code",
   "execution_count": 5,
   "metadata": {
    "execution": {
     "iopub.execute_input": "2023-11-01T08:21:16.485967Z",
     "iopub.status.busy": "2023-11-01T08:21:16.485414Z",
     "iopub.status.idle": "2023-11-01T08:21:16.490284Z",
     "shell.execute_reply": "2023-11-01T08:21:16.489525Z",
     "shell.execute_reply.started": "2023-11-01T08:21:16.485933Z"
    },
    "scrolled": true
   },
   "outputs": [],
   "source": [
    "# 定义优化器\n",
    "optimizer = paddle.optimizer.Adam(learning_rate=0.001,parameters=model.parameters())"
   ]
  },
  {
   "cell_type": "code",
   "execution_count": 6,
   "metadata": {
    "execution": {
     "iopub.execute_input": "2023-11-01T08:21:18.467973Z",
     "iopub.status.busy": "2023-11-01T08:21:18.467428Z",
     "iopub.status.idle": "2023-11-01T08:21:44.586809Z",
     "shell.execute_reply": "2023-11-01T08:21:44.585901Z",
     "shell.execute_reply.started": "2023-11-01T08:21:18.467936Z"
    },
    "scrolled": true,
    "tags": []
   },
   "outputs": [
    {
     "name": "stdout",
     "output_type": "stream",
     "text": [
      "epoch: 100 loss: 151.53077697753906\r\n",
      "epoch: 200 loss: 142.78915405273438\r\n",
      "epoch: 300 loss: 139.830810546875\r\n",
      "epoch: 400 loss: 134.9827880859375\r\n",
      "epoch: 500 loss: 120.30317687988281\r\n",
      "epoch: 600 loss: 77.14219665527344\r\n",
      "epoch: 700 loss: 46.94025421142578\r\n",
      "epoch: 800 loss: 29.745651245117188\r\n",
      "epoch: 900 loss: 20.962404251098633\r\n",
      "epoch: 1000 loss: 15.9086275100708\r\n",
      "epoch: 1100 loss: 12.426397323608398\r\n",
      "epoch: 1200 loss: 9.83508014678955\r\n",
      "epoch: 1300 loss: 7.89323616027832\r\n",
      "epoch: 1400 loss: 6.7456440925598145\r\n",
      "epoch: 1500 loss: 5.206711769104004\r\n",
      "epoch: 1600 loss: 4.451216697692871\r\n",
      "epoch: 1700 loss: 3.843984603881836\r\n",
      "epoch: 1800 loss: 3.4556639194488525\r\n",
      "epoch: 1900 loss: 3.044717788696289\r\n",
      "epoch: 2000 loss: 2.8935537338256836\r\n"
     ]
    }
   ],
   "source": [
    "# 训练网络\n",
    "epoch = 0\n",
    "while(epoch<=2000):\n",
    "    loss = paddle.sum(paddle.square(model(U0) - U1))\n",
    "    loss.backward(retain_graph=True)\n",
    "    optimizer.step()\n",
    "    optimizer.clear_grad()\n",
    "    epoch += 1\n",
    "    if epoch % 100 == 0:\n",
    "        print('epoch:',epoch,'loss:',float(loss))"
   ]
  },
  {
   "cell_type": "code",
   "execution_count": 12,
   "metadata": {
    "execution": {
     "iopub.execute_input": "2023-11-01T08:24:06.867251Z",
     "iopub.status.busy": "2023-11-01T08:24:06.866602Z",
     "iopub.status.idle": "2023-11-01T08:24:07.382205Z",
     "shell.execute_reply": "2023-11-01T08:24:07.381199Z",
     "shell.execute_reply.started": "2023-11-01T08:24:06.867212Z"
    },
    "scrolled": true,
    "tags": []
   },
   "outputs": [
    {
     "name": "stdout",
     "output_type": "stream",
     "text": [
      "initial time: 0.20104636251926422 relative error: 0.0038795871660113335\r\n"
     ]
    },
    {
     "data": {
      "text/plain": [
       "Text(0.5,1,'true')"
      ]
     },
     "execution_count": 12,
     "metadata": {},
     "output_type": "execute_result"
    },
    {
     "data": {
      "image/png": "[encoded data removed]",
      "text/plain": [
       "<Figure size 640x480 with 4 Axes>"
      ]
     },
     "metadata": {},
     "output_type": "display_data"
    }
   ],
   "source": [
    "# 测试网络\n",
    "t = paddle.rand([1])\n",
    "U0_test = t * paddle.sin(X) * paddle.cos(Y)\n",
    "U1_test = 0.5 * paddle.sin(X) * paddle.cos(Y) + U0_test\n",
    "\n",
    "U0_test = U0_test.reshape([1,resolution,resolution,1])\n",
    "U1_test = U1_test.reshape([1,resolution,resolution,1])\n",
    "U1_pred = model(U0_test)\n",
    "\n",
    "err = paddle.square(U1_pred - U1_test)\n",
    "err_sum = paddle.sum(paddle.square(U1_pred - U1_test)) / paddle.sum(paddle.square(U1_test))\n",
    "print('initial time:',float(t),'relative error:',float(err_sum))\n",
    "\n",
    "ax1 = plt.subplot(1, 2, 1, frameon = False) \n",
    "plt.contourf(U1_pred.reshape([resolution,resolution]))\n",
    "plt.colorbar()\n",
    "plt.title('predicted')\n",
    "ax2 = plt.subplot(1, 2, 2, frameon = False) \n",
    "plt.contourf(U1_test.reshape([resolution,resolution]))\n",
    "plt.colorbar()\n",
    "plt.title('true')"
   ]
  },
  {
   "cell_type": "code",
   "execution_count": null,
   "metadata": {
    "scrolled": true
   },
   "outputs": [],
   "source": []
  }
 ],
 "metadata": {
  "kernelspec": {
   "display_name": "Python 3",
   "language": "python",
   "name": "py35-paddle1.2.0"
  },
  "language_info": {
   "codemirror_mode": {
    "name": "ipython",
    "version": 3
   },
   "file_extension": ".py",
   "mimetype": "text/x-python",
   "name": "python",
   "nbconvert_exporter": "python",
   "pygments_lexer": "ipython3",
   "version": "3.7.4"
  }
 },
 "nbformat": 4,
 "nbformat_minor": 4
}
